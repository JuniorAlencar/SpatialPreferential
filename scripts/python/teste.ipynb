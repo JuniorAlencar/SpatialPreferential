{
 "cells": [
  {
   "cell_type": "code",
   "execution_count": 36,
   "metadata": {},
   "outputs": [],
   "source": [
    "import numpy as np\n",
    "import glob\n",
    "import os\n",
    "import math"
   ]
  },
  {
   "cell_type": "code",
   "execution_count": 83,
   "metadata": {},
   "outputs": [],
   "source": [
    "import os\n",
    "import glob\n",
    "\n",
    "def ajustar_args_n_samples(args, n_samples):\n",
    "    n_threads = os.cpu_count()  # Número de threads fixado como o número de CPUs\n",
    "    len_args = len(args)\n",
    "\n",
    "    if len_args == 0:\n",
    "        raise ValueError(\"A lista de argumentos (args) está vazia.\")\n",
    "    if n_threads == 0:\n",
    "        raise ValueError(\"O número de threads (n_threads) não pode ser zero.\")\n",
    "\n",
    "    # Dividir os argumentos em múltiplos de n_threads e o restante\n",
    "    num_multiplo_threads = (len_args // n_threads) * n_threads\n",
    "    args_multiplo = args[:num_multiplo_threads]  # Parte múltipla de n_threads\n",
    "    args_restantes = args[num_multiplo_threads:]  # Restante\n",
    "\n",
    "    # Ajustar o número de samples para o grupo principal\n",
    "    if num_multiplo_threads > 0:\n",
    "        n_samples_main = n_samples * num_multiplo_threads // len_args\n",
    "    else:\n",
    "        n_samples_main = 0\n",
    "\n",
    "    # Ajustar os argumentos restantes para um múltiplo de n_threads\n",
    "    if len(args_restantes) > 0:\n",
    "        fator_repeticao = -(-n_threads // len(args_restantes))  # Arredondar para cima\n",
    "        args_restantes_expandidos = (args_restantes * fator_repeticao)[:n_threads]\n",
    "        n_samples_restantes = n_samples * len(args_restantes) // len_args\n",
    "    else:\n",
    "        args_restantes_expandidos = []\n",
    "        n_samples_restantes = 0\n",
    "\n",
    "    return args_multiplo, n_samples_main, (args_restantes_expandidos, n_samples_restantes)\n",
    "\n",
    "\n",
    "def gerar_script(filename, arguments, n_samples):\n",
    "    with open(filename, \"w\") as f:\n",
    "        f.write(\"#!/bin/bash\\n\\n\")\n",
    "        f.write(f\"arguments=({' '.join(arguments)})\\n\")\n",
    "        f.write(f\"n_samples={n_samples}\\n\")\n",
    "        f.write(\"x=0\\n\")\n",
    "        f.write(\"while [ $x -lt $n_samples ]; do\\n\")\n",
    "        f.write(\"\\tparallel run_code ::: \\\"${arguments[@]}\\\"\\n\")\n",
    "        f.write(\"\\tx=$(( $x + 1 ))\\n\")\n",
    "        f.write(\"done\\n\")\n",
    "\n",
    "def multithread_pc(N, NumSamples):\n",
    "    n_threads = os.cpu_count()  # Número de threads fixado\n",
    "    filename1 = f\"N_{N}_multithread_pc_main.sh\"\n",
    "    filename2 = f\"N_{N}_multithread_pc_extra.sh\"\n",
    "\n",
    "    # Caminho para os arquivos JSON\n",
    "    path_d = f\"../../parms_pc_{N}\"\n",
    "    all_files = glob.glob(os.path.join(path_d, \"*.json\"))\n",
    "    list_of_arguments = [os.path.basename(f) for f in all_files]\n",
    "\n",
    "    # Ajustar argumentos e n_samples\n",
    "    args_main, n_samples_main, extra = ajustar_args_n_samples(list_of_arguments, NumSamples)\n",
    "\n",
    "    # Gerar o script principal\n",
    "    if args_main:\n",
    "        gerar_script(\"../\" + filename1, args_main, n_samples_main)\n",
    "\n",
    "    # Gerar o script extra, se necessário\n",
    "    if extra[0]:  # Se existem argumentos restantes\n",
    "        args_extra, n_samples_extra = extra\n",
    "        gerar_script(\"../\" + filename2, args_extra, n_samples_extra)\n",
    "\n"
   ]
  },
  {
   "cell_type": "code",
   "execution_count": 84,
   "metadata": {},
   "outputs": [
    {
     "data": {
      "text/plain": [
       "([],\n",
       " 0,\n",
       " (['N160000_a7.00_g2.00_d3.0.json',\n",
       "   'N160000_a13.00_g2.00_d4.0.json',\n",
       "   'N160000_a8.00_g2.00_d4.0.json',\n",
       "   'N160000_a1.00_g2.00_d4.0.json',\n",
       "   'N160000_a10.00_g2.00_d4.0.json',\n",
       "   'N160000_a6.00_g2.00_d3.0.json',\n",
       "   'N160000_a5.00_g2.00_d2.0.json',\n",
       "   'N160000_a14.00_g2.00_d4.0.json',\n",
       "   'N160000_a12.00_g2.00_d4.0.json',\n",
       "   'N160000_a8.00_g2.00_d3.0.json',\n",
       "   'N160000_a11.00_g2.00_d4.0.json',\n",
       "   'N160000_a9.00_g2.00_d4.0.json',\n",
       "   'N160000_a7.00_g2.00_d4.0.json',\n",
       "   'N160000_a9.00_g2.00_d3.0.json',\n",
       "   'N160000_a7.00_g2.00_d3.0.json',\n",
       "   'N160000_a13.00_g2.00_d4.0.json',\n",
       "   'N160000_a8.00_g2.00_d4.0.json',\n",
       "   'N160000_a1.00_g2.00_d4.0.json',\n",
       "   'N160000_a10.00_g2.00_d4.0.json',\n",
       "   'N160000_a6.00_g2.00_d3.0.json'],\n",
       "  30))"
      ]
     },
     "execution_count": 84,
     "metadata": {},
     "output_type": "execute_result"
    }
   ],
   "source": [
    "N= 160000\n",
    "n_threads = 20\n",
    "# Caminho para os arquivos JSON\n",
    "path_d = f\"../../parms_pc_{N}\"\n",
    "all_files = glob.glob(os.path.join(path_d, \"*.json\"))\n",
    "list_of_arguments = [os.path.basename(f) for f in all_files]\n",
    "A = ajustar_args_n_samples(list_of_arguments, 30)\n",
    "A\n",
    "#print(list_of_arguments)\n"
   ]
  },
  {
   "cell_type": "code",
   "execution_count": 73,
   "metadata": {},
   "outputs": [],
   "source": [
    "N = 160000\n",
    "NumSamples = 30\n",
    "\n",
    "multithread_pc(N, NumSamples)\n"
   ]
  },
  {
   "cell_type": "code",
   "execution_count": 52,
   "metadata": {},
   "outputs": [
    {
     "name": "stdout",
     "output_type": "stream",
     "text": [
      "0.7 0.0\n"
     ]
    }
   ],
   "source": [
    "N_a = os.cpu_count()\n",
    "N = 160000\n",
    "path_d = f\"../../parms_pc_{N}\"\n",
    "all_files = glob.glob(os.path.join(path_d,\"*.json\"))\n",
    "#N_t = len(all_files)\n",
    "N_t = 14\n",
    "N_div = (N_t / N_a) % N_t\n",
    "frac, inte = math.modf(N_div)\n",
    "print(frac, inte)\n",
    "\n",
    "\n",
    "# list_of_arguments = [V[2] for V in os.walk(path_d)][0]\n",
    "# list_of_arguments = str(list_of_arguments)\n",
    "# list_of_arguments = list_of_arguments.replace(',', '')\n",
    "\n",
    "# h = f\"arguments=(\" \n",
    "# i = list_of_arguments[1:-1] + \")\\n\\n\"\n",
    "# j = \"x=0\\n\""
   ]
  }
 ],
 "metadata": {
  "kernelspec": {
   "display_name": "Python 3",
   "language": "python",
   "name": "python3"
  },
  "language_info": {
   "codemirror_mode": {
    "name": "ipython",
    "version": 3
   },
   "file_extension": ".py",
   "mimetype": "text/x-python",
   "name": "python",
   "nbconvert_exporter": "python",
   "pygments_lexer": "ipython3",
   "version": "3.10.12"
  }
 },
 "nbformat": 4,
 "nbformat_minor": 2
}
